{
 "cells": [
  {
   "cell_type": "code",
   "execution_count": 21,
   "id": "eb53331d",
   "metadata": {},
   "outputs": [],
   "source": [
    "from bs4 import BeautifulSoup as bs\n",
    "import requests\n"
   ]
  },
  {
   "cell_type": "code",
   "execution_count": 28,
   "id": "d3e19d15",
   "metadata": {},
   "outputs": [],
   "source": [
    "url = 'https://demo.owasp-juice.shop/#/login'\n",
    "page = requests.get(url)\n",
    "soup = bs(page.text, 'html.parser')\n",
    "target_div = soup.find('div', id='login-form')\n",
    "target_div"
   ]
  },
  {
   "cell_type": "code",
   "execution_count": null,
   "id": "df9f9865",
   "metadata": {},
   "outputs": [],
   "source": []
  }
 ],
 "metadata": {
  "kernelspec": {
   "display_name": "venv",
   "language": "python",
   "name": "python3"
  },
  "language_info": {
   "name": "python",
   "version": "3.12.5"
  }
 },
 "nbformat": 4,
 "nbformat_minor": 5
}
